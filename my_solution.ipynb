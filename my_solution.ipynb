{
 "cells": [
  {
   "cell_type": "code",
   "execution_count": 1,
   "metadata": {
    "id": "iyJdVYzOncBd"
   },
   "outputs": [],
   "source": [
    "import re\n",
    "import numpy as np\n",
    "import pandas as pd\n",
    "import seaborn as sns\n",
    "import matplotlib.pyplot as plt\n",
    "from sklearn.model_selection import train_test_split\n",
    "from catboost import CatBoostClassifier\n",
    "from nltk.stem.snowball import SnowballStemmer \n",
    "from tqdm.notebook import tqdm\n",
    "from collections import Counter\n",
    "from sklearn.utils.class_weight import compute_class_weight\n",
    "import shap\n",
    "\n",
    "tqdm.pandas()\n",
    "%matplotlib inline"
   ]
  },
  {
   "cell_type": "markdown",
   "metadata": {},
   "source": [
    "## Загрузка данных"
   ]
  },
  {
   "cell_type": "code",
   "execution_count": 2,
   "metadata": {
    "id": "4LBwgqxpn54b"
   },
   "outputs": [],
   "source": [
    "df = pd.read_csv(\"train_dataset_train.csv\", index_col='id')"
   ]
  },
  {
   "cell_type": "code",
   "execution_count": 3,
   "metadata": {},
   "outputs": [
    {
     "data": {
      "text/html": [
       "<div>\n",
       "<style scoped>\n",
       "    .dataframe tbody tr th:only-of-type {\n",
       "        vertical-align: middle;\n",
       "    }\n",
       "\n",
       "    .dataframe tbody tr th {\n",
       "        vertical-align: top;\n",
       "    }\n",
       "\n",
       "    .dataframe thead th {\n",
       "        text-align: right;\n",
       "    }\n",
       "</style>\n",
       "<table border=\"1\" class=\"dataframe\">\n",
       "  <thead>\n",
       "    <tr style=\"text-align: right;\">\n",
       "      <th></th>\n",
       "      <th>name</th>\n",
       "      <th>groups</th>\n",
       "    </tr>\n",
       "    <tr>\n",
       "      <th>id</th>\n",
       "      <th></th>\n",
       "      <th></th>\n",
       "    </tr>\n",
       "  </thead>\n",
       "  <tbody>\n",
       "    <tr>\n",
       "      <th>2442477</th>\n",
       "      <td>БЗМЖ Молоко ультропаст.Вкуснотеево900гр.3.2%ПЭТ/б</td>\n",
       "      <td>3</td>\n",
       "    </tr>\n",
       "    <tr>\n",
       "      <th>1564599</th>\n",
       "      <td>15.6\" Ноутбук Acer Nitro 5 (AN515-54-58LL)(FHD...</td>\n",
       "      <td>10</td>\n",
       "    </tr>\n",
       "    <tr>\n",
       "      <th>841848</th>\n",
       "      <td>ЖЕВ.РЕЗИНКА ОРБИТ НЕЖНАЯ МЯТА XX 46153708</td>\n",
       "      <td>10</td>\n",
       "    </tr>\n",
       "    <tr>\n",
       "      <th>960348</th>\n",
       "      <td>Агрикола Грунт универсальный 50 л (Техноэкспор...</td>\n",
       "      <td>10</td>\n",
       "    </tr>\n",
       "    <tr>\n",
       "      <th>398622</th>\n",
       "      <td>1. Игристое вино \"Каспийская коллекция\" ЗГУ \"Д...</td>\n",
       "      <td>10</td>\n",
       "    </tr>\n",
       "    <tr>\n",
       "      <th>...</th>\n",
       "      <td>...</td>\n",
       "      <td>...</td>\n",
       "    </tr>\n",
       "    <tr>\n",
       "      <th>5324046</th>\n",
       "      <td>8714100917541 ШАМПУНЬ TRESEMME BEA</td>\n",
       "      <td>10</td>\n",
       "    </tr>\n",
       "    <tr>\n",
       "      <th>2971888</th>\n",
       "      <td>1/1 Ксилен 0.1% капли назальные 10мл фл.-кап. ...</td>\n",
       "      <td>10</td>\n",
       "    </tr>\n",
       "    <tr>\n",
       "      <th>4713243</th>\n",
       "      <td>СЫР колбасный ЯНТАРЬ 1 кг Воронеж</td>\n",
       "      <td>10</td>\n",
       "    </tr>\n",
       "    <tr>\n",
       "      <th>152642</th>\n",
       "      <td>Боди длинный рукав для девочек:</td>\n",
       "      <td>10</td>\n",
       "    </tr>\n",
       "    <tr>\n",
       "      <th>494535</th>\n",
       "      <td>1*2504 Вода АКВА МИНЕРАЛЕ питьевая 5л</td>\n",
       "      <td>0</td>\n",
       "    </tr>\n",
       "  </tbody>\n",
       "</table>\n",
       "<p>658064 rows × 2 columns</p>\n",
       "</div>"
      ],
      "text/plain": [
       "                                                      name  groups\n",
       "id                                                                \n",
       "2442477  БЗМЖ Молоко ультропаст.Вкуснотеево900гр.3.2%ПЭТ/б       3\n",
       "1564599  15.6\" Ноутбук Acer Nitro 5 (AN515-54-58LL)(FHD...      10\n",
       "841848           ЖЕВ.РЕЗИНКА ОРБИТ НЕЖНАЯ МЯТА XX 46153708      10\n",
       "960348   Агрикола Грунт универсальный 50 л (Техноэкспор...      10\n",
       "398622   1. Игристое вино \"Каспийская коллекция\" ЗГУ \"Д...      10\n",
       "...                                                    ...     ...\n",
       "5324046                 8714100917541 ШАМПУНЬ TRESEMME BEA      10\n",
       "2971888  1/1 Ксилен 0.1% капли назальные 10мл фл.-кап. ...      10\n",
       "4713243                  СЫР колбасный ЯНТАРЬ 1 кг Воронеж      10\n",
       "152642                     Боди длинный рукав для девочек:      10\n",
       "494535               1*2504 Вода АКВА МИНЕРАЛЕ питьевая 5л       0\n",
       "\n",
       "[658064 rows x 2 columns]"
      ]
     },
     "execution_count": 3,
     "metadata": {},
     "output_type": "execute_result"
    }
   ],
   "source": [
    "df"
   ]
  },
  {
   "cell_type": "markdown",
   "metadata": {},
   "source": [
    "## Загрузка ключевых слов, использованных моделью на предыдущем запуске"
   ]
  },
  {
   "cell_type": "code",
   "execution_count": 4,
   "metadata": {},
   "outputs": [],
   "source": [
    "key_words = pd.read_csv('important_keywords.csv').iloc[:, 0]"
   ]
  },
  {
   "cell_type": "code",
   "execution_count": 5,
   "metadata": {},
   "outputs": [
    {
     "name": "stdout",
     "output_type": "stream",
     "text": [
      "609 284 55\n"
     ]
    }
   ],
   "source": [
    "base_words = list(filter(lambda x: '_' not in x and len(x.split()) == 1, key_words))\n",
    "base_bigrams = list(filter(lambda x: '_' not in x and len(x.split()) == 2, key_words))\n",
    "base_trigrams = list(filter(lambda x: '_' not in x and len(x.split()) == 3, key_words))\n",
    "print(len(base_words), len(base_bigrams), len(base_trigrams))"
   ]
  },
  {
   "cell_type": "markdown",
   "metadata": {
    "id": "GywlangPRAEm"
   },
   "source": [
    "## Рассмотрим датасет поближе"
   ]
  },
  {
   "cell_type": "code",
   "execution_count": 6,
   "metadata": {
    "colab": {
     "base_uri": "https://localhost:8080/",
     "height": 257
    },
    "id": "gvcl_K3FQ-os",
    "outputId": "05646ca9-7c12-4160-8e91-2f71c91aca54"
   },
   "outputs": [
    {
     "data": {
      "text/html": [
       "<div>\n",
       "<style scoped>\n",
       "    .dataframe tbody tr th:only-of-type {\n",
       "        vertical-align: middle;\n",
       "    }\n",
       "\n",
       "    .dataframe tbody tr th {\n",
       "        vertical-align: top;\n",
       "    }\n",
       "\n",
       "    .dataframe thead th {\n",
       "        text-align: right;\n",
       "    }\n",
       "</style>\n",
       "<table border=\"1\" class=\"dataframe\">\n",
       "  <thead>\n",
       "    <tr style=\"text-align: right;\">\n",
       "      <th></th>\n",
       "      <th>name</th>\n",
       "      <th>groups</th>\n",
       "    </tr>\n",
       "    <tr>\n",
       "      <th>id</th>\n",
       "      <th></th>\n",
       "      <th></th>\n",
       "    </tr>\n",
       "  </thead>\n",
       "  <tbody>\n",
       "    <tr>\n",
       "      <th>2442477</th>\n",
       "      <td>БЗМЖ Молоко ультропаст.Вкуснотеево900гр.3.2%ПЭТ/б</td>\n",
       "      <td>3</td>\n",
       "    </tr>\n",
       "    <tr>\n",
       "      <th>1564599</th>\n",
       "      <td>15.6\" Ноутбук Acer Nitro 5 (AN515-54-58LL)(FHD...</td>\n",
       "      <td>10</td>\n",
       "    </tr>\n",
       "    <tr>\n",
       "      <th>841848</th>\n",
       "      <td>ЖЕВ.РЕЗИНКА ОРБИТ НЕЖНАЯ МЯТА XX 46153708</td>\n",
       "      <td>10</td>\n",
       "    </tr>\n",
       "  </tbody>\n",
       "</table>\n",
       "</div>"
      ],
      "text/plain": [
       "                                                      name  groups\n",
       "id                                                                \n",
       "2442477  БЗМЖ Молоко ультропаст.Вкуснотеево900гр.3.2%ПЭТ/б       3\n",
       "1564599  15.6\" Ноутбук Acer Nitro 5 (AN515-54-58LL)(FHD...      10\n",
       "841848           ЖЕВ.РЕЗИНКА ОРБИТ НЕЖНАЯ МЯТА XX 46153708      10"
      ]
     },
     "execution_count": 6,
     "metadata": {},
     "output_type": "execute_result"
    }
   ],
   "source": [
    "df.head(3)"
   ]
  },
  {
   "cell_type": "code",
   "execution_count": 7,
   "metadata": {
    "colab": {
     "base_uri": "https://localhost:8080/"
    },
    "id": "jE8r6sYMUB6w",
    "outputId": "80d551fd-1355-45ff-df21-7ac3a0e34af0"
   },
   "outputs": [
    {
     "data": {
      "text/plain": [
       "(658064, 2)"
      ]
     },
     "execution_count": 7,
     "metadata": {},
     "output_type": "execute_result"
    }
   ],
   "source": [
    "df.shape"
   ]
  },
  {
   "cell_type": "code",
   "execution_count": 8,
   "metadata": {
    "colab": {
     "base_uri": "https://localhost:8080/"
    },
    "id": "uAIT-vwLUI0z",
    "outputId": "d3947e48-5566-4904-d129-941b184a38b9"
   },
   "outputs": [
    {
     "name": "stdout",
     "output_type": "stream",
     "text": [
      "<class 'pandas.core.frame.DataFrame'>\n",
      "Int64Index: 658064 entries, 2442477 to 494535\n",
      "Data columns (total 2 columns):\n",
      " #   Column  Non-Null Count   Dtype \n",
      "---  ------  --------------   ----- \n",
      " 0   name    658064 non-null  object\n",
      " 1   groups  658064 non-null  int64 \n",
      "dtypes: int64(1), object(1)\n",
      "memory usage: 15.1+ MB\n"
     ]
    }
   ],
   "source": [
    "df.info()"
   ]
  },
  {
   "cell_type": "markdown",
   "metadata": {
    "id": "_UoX9CWlWPK3"
   },
   "source": [
    "## Проведем стемминг названий\n",
    "\n",
    "Также добавим пару новых столбцов:\n",
    "\n",
    "`total_len` -- длина названий в символах\n",
    "\n",
    "`sign_len` -- длина названий в символах после их преобразования стеммером\n",
    "\n",
    "`sign_frac` -- доля символов, не являющихся ни окончаниями, ни знаками препинания\n",
    "\n",
    "`count_` -- длина названий в словах\n",
    "\n",
    "`avg_len` -- средняя длина слов в символах"
   ]
  },
  {
   "cell_type": "code",
   "execution_count": 9,
   "metadata": {},
   "outputs": [],
   "source": [
    "stemmer = SnowballStemmer(\"russian\") "
   ]
  },
  {
   "cell_type": "code",
   "execution_count": 10,
   "metadata": {},
   "outputs": [
    {
     "data": {
      "application/vnd.jupyter.widget-view+json": {
       "model_id": "58f6e641a5eb4eec84f3c8c274c6ab62",
       "version_major": 2,
       "version_minor": 0
      },
      "text/plain": [
       "  0%|          | 0/658064 [00:00<?, ?it/s]"
      ]
     },
     "metadata": {},
     "output_type": "display_data"
    },
    {
     "data": {
      "application/vnd.jupyter.widget-view+json": {
       "model_id": "257156be39724193b79601122ae1a6e1",
       "version_major": 2,
       "version_minor": 0
      },
      "text/plain": [
       "  0%|          | 0/658064 [00:00<?, ?it/s]"
      ]
     },
     "metadata": {},
     "output_type": "display_data"
    },
    {
     "data": {
      "application/vnd.jupyter.widget-view+json": {
       "model_id": "9c0904d8af684cab90a949b0755cdafe",
       "version_major": 2,
       "version_minor": 0
      },
      "text/plain": [
       "  0%|          | 0/658064 [00:00<?, ?it/s]"
      ]
     },
     "metadata": {},
     "output_type": "display_data"
    },
    {
     "data": {
      "application/vnd.jupyter.widget-view+json": {
       "model_id": "8534e1525edf4d82949a168948ba2212",
       "version_major": 2,
       "version_minor": 0
      },
      "text/plain": [
       "  0%|          | 0/658064 [00:00<?, ?it/s]"
      ]
     },
     "metadata": {},
     "output_type": "display_data"
    }
   ],
   "source": [
    "df['total_len'] = df['name'].fillna(' ').progress_apply(len)\n",
    "df['name'] = df['name'].fillna('').progress_apply(lambda x: ' '.join(filter(lambda x: len(x) > 0, map(stemmer.stem, \n",
    "                                                                                    re.split(r'[ ,\"\\_\\-.()0-9//%:\\*]', \n",
    "                                                                                             x)))))\n",
    "df['sign_len'] = df['name'].fillna('').progress_apply(len)\n",
    "df['sign_frac'] = df['sign_len']/df['total_len']\n",
    "df['count_'] = df['name'].fillna('').progress_apply(lambda x: len(x.split()))\n",
    "df['avg_len'] = df['total_len']/df['count_']"
   ]
  },
  {
   "cell_type": "code",
   "execution_count": 11,
   "metadata": {
    "id": "omTjmeZiU158"
   },
   "outputs": [
    {
     "data": {
      "text/html": [
       "<div>\n",
       "<style scoped>\n",
       "    .dataframe tbody tr th:only-of-type {\n",
       "        vertical-align: middle;\n",
       "    }\n",
       "\n",
       "    .dataframe tbody tr th {\n",
       "        vertical-align: top;\n",
       "    }\n",
       "\n",
       "    .dataframe thead th {\n",
       "        text-align: right;\n",
       "    }\n",
       "</style>\n",
       "<table border=\"1\" class=\"dataframe\">\n",
       "  <thead>\n",
       "    <tr style=\"text-align: right;\">\n",
       "      <th></th>\n",
       "      <th>name</th>\n",
       "      <th>groups</th>\n",
       "      <th>total_len</th>\n",
       "      <th>sign_len</th>\n",
       "      <th>sign_frac</th>\n",
       "      <th>count_</th>\n",
       "      <th>avg_len</th>\n",
       "    </tr>\n",
       "    <tr>\n",
       "      <th>id</th>\n",
       "      <th></th>\n",
       "      <th></th>\n",
       "      <th></th>\n",
       "      <th></th>\n",
       "      <th></th>\n",
       "      <th></th>\n",
       "      <th></th>\n",
       "    </tr>\n",
       "  </thead>\n",
       "  <tbody>\n",
       "    <tr>\n",
       "      <th>2442477</th>\n",
       "      <td>бзмж молок ультропаст вкуснотеев гр пэт б</td>\n",
       "      <td>3</td>\n",
       "      <td>49</td>\n",
       "      <td>41</td>\n",
       "      <td>0.836735</td>\n",
       "      <td>7</td>\n",
       "      <td>7.000000</td>\n",
       "    </tr>\n",
       "    <tr>\n",
       "      <th>1564599</th>\n",
       "      <td>ноутбук Acer Nitro AN LL FHD IPS i H SSD NV GT...</td>\n",
       "      <td>10</td>\n",
       "      <td>100</td>\n",
       "      <td>60</td>\n",
       "      <td>0.600000</td>\n",
       "      <td>15</td>\n",
       "      <td>6.666667</td>\n",
       "    </tr>\n",
       "    <tr>\n",
       "      <th>841848</th>\n",
       "      <td>жев резинк орб нежн мят XX</td>\n",
       "      <td>10</td>\n",
       "      <td>41</td>\n",
       "      <td>26</td>\n",
       "      <td>0.634146</td>\n",
       "      <td>6</td>\n",
       "      <td>6.833333</td>\n",
       "    </tr>\n",
       "  </tbody>\n",
       "</table>\n",
       "</div>"
      ],
      "text/plain": [
       "                                                      name  groups  total_len  \\\n",
       "id                                                                              \n",
       "2442477          бзмж молок ультропаст вкуснотеев гр пэт б       3         49   \n",
       "1564599  ноутбук Acer Nitro AN LL FHD IPS i H SSD NV GT...      10        100   \n",
       "841848                          жев резинк орб нежн мят XX      10         41   \n",
       "\n",
       "         sign_len  sign_frac  count_   avg_len  \n",
       "id                                              \n",
       "2442477        41   0.836735       7  7.000000  \n",
       "1564599        60   0.600000      15  6.666667  \n",
       "841848         26   0.634146       6  6.833333  "
      ]
     },
     "execution_count": 11,
     "metadata": {},
     "output_type": "execute_result"
    }
   ],
   "source": [
    "df.head(3)"
   ]
  },
  {
   "cell_type": "markdown",
   "metadata": {},
   "source": [
    "## Посмотрим как часто различные слова / биграммы / триграммы встречаются в названиях и выберем те из них, по которым будем строить признаки\n",
    "\n",
    "При выборе слов в качестве признаков для обучения на разных итерациях использовались слова, <<отобранные>> catboost при предыдущем запуске + слова с частотой вхождения из \n",
    "\n",
    "1. $(300, +\\inf)$\n",
    "2. $(200, 300]$\n",
    "3. $(150, 200]$\n",
    "4. $(125, 150]$\n",
    "5. $(100, 125]$\n",
    "6. $(90, 100]$\n",
    "7. $(80, 90]$\n",
    "8. $(70, 80]$\n",
    "\n",
    "Нумерация здесь соответствует порядковому номеру запуска."
   ]
  },
  {
   "cell_type": "code",
   "execution_count": 12,
   "metadata": {},
   "outputs": [],
   "source": [
    "def count_instances(x, word):\n",
    "    return (' '+x.lower()+' ').count(' '+word+' ')"
   ]
  },
  {
   "cell_type": "code",
   "execution_count": 13,
   "metadata": {},
   "outputs": [],
   "source": [
    "full = ' '.join(df['name'].dropna())\n",
    "name_set = Counter(full.split())\n",
    "name_words = list(set(base_words + [x for x in name_set if name_set[x] <= 80 and name_set[x] > 70]))\n",
    "word_lengths = pd.Series({word: len(word) for word in name_words})"
   ]
  },
  {
   "cell_type": "code",
   "execution_count": 14,
   "metadata": {},
   "outputs": [
    {
     "data": {
      "text/plain": [
       "1038"
      ]
     },
     "execution_count": 14,
     "metadata": {},
     "output_type": "execute_result"
    }
   ],
   "source": [
    "len(name_words)"
   ]
  },
  {
   "cell_type": "code",
   "execution_count": 15,
   "metadata": {},
   "outputs": [],
   "source": [
    "bigram_set = Counter([a+' '+b for a, b in zip(full.split()[:-1], full.split()[1:])])\n",
    "bigram_words = list(set(base_bigrams + [x for x in bigram_set if bigram_set[x] <= 80 and bigram_set[x] > 70]))\n",
    "bigram_lengths = pd.Series({word: len(word) for word in bigram_words})"
   ]
  },
  {
   "cell_type": "code",
   "execution_count": 16,
   "metadata": {},
   "outputs": [
    {
     "data": {
      "text/plain": [
       "1091"
      ]
     },
     "execution_count": 16,
     "metadata": {},
     "output_type": "execute_result"
    }
   ],
   "source": [
    "len(bigram_words)"
   ]
  },
  {
   "cell_type": "code",
   "execution_count": 17,
   "metadata": {},
   "outputs": [],
   "source": [
    "trigram_set = Counter([a+' '+b+' '+c for a, b, c in zip(full.split()[:-2], full.split()[1:-1], full.split()[2:])])\n",
    "trigram_words = list(set(base_trigrams + [x for x in trigram_set if trigram_set[x] <= 80 and trigram_set[x] > 70]))\n",
    "trigram_lengths = pd.Series({word: len(word) for word in trigram_words})"
   ]
  },
  {
   "cell_type": "code",
   "execution_count": 18,
   "metadata": {},
   "outputs": [
    {
     "data": {
      "text/plain": [
       "329"
      ]
     },
     "execution_count": 18,
     "metadata": {},
     "output_type": "execute_result"
    }
   ],
   "source": [
    "len(trigram_words)"
   ]
  },
  {
   "cell_type": "markdown",
   "metadata": {
    "id": "dBzIOtYBr1IJ"
   },
   "source": [
    "## Для выбранных ключевых слов / биграмм / триграмм найдём те названия, в которых они встречаются\n",
    "\n",
    "Количество их вхождений в каждое название (чаще всего $0$ или $1$) -- наши признаки.\n",
    "\n",
    "Для ключевых словосочетаний каждого типа (отдельно взятых слов, биграмм и триграмм) введём следующие дополнительные признаки:\n",
    "\n",
    "`???_count` -- количество ключевых словосочетаний данного типа, входящих в название\n",
    "\n",
    "`???_frac` -- доля словосочетаний данного типа в названии, являющихся ключевыми\n",
    "\n",
    "`???_total_len` -- суммарная длина ключевых словосочетаний данного типа в названии\n",
    "\n",
    "`???_avg_len` -- средняя длина ключевых словосочетаний данного типа в названии\n",
    "\n",
    "Также введём несколько признаков, общих для всех типов:\n",
    "\n",
    "`total_count` -- количество всех ключевых словосочетаний в названии\n",
    "\n",
    "`max_count` -- количество максимальных по включению ключевых словосочетаний в названии\n",
    "\n",
    "`sign_total_len` -- суммарная длина всех ключевых словосочетаний в названии\n",
    "\n",
    "`sign_avg_len` -- средняя длина всех ключевых словосочетаний в названии"
   ]
  },
  {
   "cell_type": "code",
   "execution_count": 19,
   "metadata": {
    "id": "lmalRfYZq1Xa"
   },
   "outputs": [
    {
     "data": {
      "application/vnd.jupyter.widget-view+json": {
       "model_id": "bcb68955964e40f6ba8dc72fea2bb586",
       "version_major": 2,
       "version_minor": 0
      },
      "text/plain": [
       "  0%|          | 0/1038 [00:00<?, ?it/s]"
      ]
     },
     "metadata": {},
     "output_type": "display_data"
    }
   ],
   "source": [
    "df = pd.concat([df] + [pd.DataFrame({word: df[\"name\"].map(lambda x: count_instances(x, word))})\n",
    "                      for word in tqdm(name_words)], axis=1)"
   ]
  },
  {
   "cell_type": "code",
   "execution_count": 20,
   "metadata": {},
   "outputs": [],
   "source": [
    "df['word_count'] = df[[word for word in name_words]].sum(axis=1)\n",
    "df['word_frac'] = df['word_count']/(df['count_'] +0.0001)\n",
    "df['word_total_len'] = (df[[word for word in name_words]]*word_lengths).sum(axis=1)\n",
    "df['word_avg_len'] = df['word_total_len']/(df['word_count'] +0.0001)"
   ]
  },
  {
   "cell_type": "code",
   "execution_count": 21,
   "metadata": {
    "colab": {
     "base_uri": "https://localhost:8080/",
     "height": 257
    },
    "id": "VUgrXwNdU4YN",
    "outputId": "189859be-fa6d-4a5d-ad46-828c20c72c13"
   },
   "outputs": [
    {
     "data": {
      "text/html": [
       "<div>\n",
       "<style scoped>\n",
       "    .dataframe tbody tr th:only-of-type {\n",
       "        vertical-align: middle;\n",
       "    }\n",
       "\n",
       "    .dataframe tbody tr th {\n",
       "        vertical-align: top;\n",
       "    }\n",
       "\n",
       "    .dataframe thead th {\n",
       "        text-align: right;\n",
       "    }\n",
       "</style>\n",
       "<table border=\"1\" class=\"dataframe\">\n",
       "  <thead>\n",
       "    <tr style=\"text-align: right;\">\n",
       "      <th></th>\n",
       "      <th>name</th>\n",
       "      <th>groups</th>\n",
       "      <th>total_len</th>\n",
       "      <th>sign_len</th>\n",
       "      <th>sign_frac</th>\n",
       "      <th>count_</th>\n",
       "      <th>avg_len</th>\n",
       "      <th>выпаден</th>\n",
       "      <th>повар</th>\n",
       "      <th>ндс</th>\n",
       "      <th>...</th>\n",
       "      <th>опт</th>\n",
       "      <th>сок</th>\n",
       "      <th>классическ</th>\n",
       "      <th>дарницк</th>\n",
       "      <th>ремеслен</th>\n",
       "      <th>зат</th>\n",
       "      <th>word_count</th>\n",
       "      <th>word_frac</th>\n",
       "      <th>word_total_len</th>\n",
       "      <th>word_avg_len</th>\n",
       "    </tr>\n",
       "    <tr>\n",
       "      <th>id</th>\n",
       "      <th></th>\n",
       "      <th></th>\n",
       "      <th></th>\n",
       "      <th></th>\n",
       "      <th></th>\n",
       "      <th></th>\n",
       "      <th></th>\n",
       "      <th></th>\n",
       "      <th></th>\n",
       "      <th></th>\n",
       "      <th></th>\n",
       "      <th></th>\n",
       "      <th></th>\n",
       "      <th></th>\n",
       "      <th></th>\n",
       "      <th></th>\n",
       "      <th></th>\n",
       "      <th></th>\n",
       "      <th></th>\n",
       "      <th></th>\n",
       "      <th></th>\n",
       "    </tr>\n",
       "  </thead>\n",
       "  <tbody>\n",
       "    <tr>\n",
       "      <th>2442477</th>\n",
       "      <td>бзмж молок ультропаст вкуснотеев гр пэт б</td>\n",
       "      <td>3</td>\n",
       "      <td>49</td>\n",
       "      <td>41</td>\n",
       "      <td>0.836735</td>\n",
       "      <td>7</td>\n",
       "      <td>7.000000</td>\n",
       "      <td>0</td>\n",
       "      <td>0</td>\n",
       "      <td>0</td>\n",
       "      <td>...</td>\n",
       "      <td>0</td>\n",
       "      <td>0</td>\n",
       "      <td>0</td>\n",
       "      <td>0</td>\n",
       "      <td>0</td>\n",
       "      <td>0</td>\n",
       "      <td>5</td>\n",
       "      <td>0.714276</td>\n",
       "      <td>15</td>\n",
       "      <td>2.999940</td>\n",
       "    </tr>\n",
       "    <tr>\n",
       "      <th>1564599</th>\n",
       "      <td>ноутбук Acer Nitro AN LL FHD IPS i H SSD NV GT...</td>\n",
       "      <td>10</td>\n",
       "      <td>100</td>\n",
       "      <td>60</td>\n",
       "      <td>0.600000</td>\n",
       "      <td>15</td>\n",
       "      <td>6.666667</td>\n",
       "      <td>0</td>\n",
       "      <td>0</td>\n",
       "      <td>0</td>\n",
       "      <td>...</td>\n",
       "      <td>0</td>\n",
       "      <td>0</td>\n",
       "      <td>0</td>\n",
       "      <td>0</td>\n",
       "      <td>0</td>\n",
       "      <td>0</td>\n",
       "      <td>2</td>\n",
       "      <td>0.133332</td>\n",
       "      <td>8</td>\n",
       "      <td>3.999800</td>\n",
       "    </tr>\n",
       "    <tr>\n",
       "      <th>841848</th>\n",
       "      <td>жев резинк орб нежн мят XX</td>\n",
       "      <td>10</td>\n",
       "      <td>41</td>\n",
       "      <td>26</td>\n",
       "      <td>0.634146</td>\n",
       "      <td>6</td>\n",
       "      <td>6.833333</td>\n",
       "      <td>0</td>\n",
       "      <td>0</td>\n",
       "      <td>0</td>\n",
       "      <td>...</td>\n",
       "      <td>0</td>\n",
       "      <td>0</td>\n",
       "      <td>0</td>\n",
       "      <td>0</td>\n",
       "      <td>0</td>\n",
       "      <td>0</td>\n",
       "      <td>3</td>\n",
       "      <td>0.499992</td>\n",
       "      <td>12</td>\n",
       "      <td>3.999867</td>\n",
       "    </tr>\n",
       "  </tbody>\n",
       "</table>\n",
       "<p>3 rows × 1049 columns</p>\n",
       "</div>"
      ],
      "text/plain": [
       "                                                      name  groups  total_len  \\\n",
       "id                                                                              \n",
       "2442477          бзмж молок ультропаст вкуснотеев гр пэт б       3         49   \n",
       "1564599  ноутбук Acer Nitro AN LL FHD IPS i H SSD NV GT...      10        100   \n",
       "841848                          жев резинк орб нежн мят XX      10         41   \n",
       "\n",
       "         sign_len  sign_frac  count_   avg_len  выпаден  повар  ндс  ...  опт  \\\n",
       "id                                                                   ...        \n",
       "2442477        41   0.836735       7  7.000000        0      0    0  ...    0   \n",
       "1564599        60   0.600000      15  6.666667        0      0    0  ...    0   \n",
       "841848         26   0.634146       6  6.833333        0      0    0  ...    0   \n",
       "\n",
       "         сок  классическ  дарницк  ремеслен  зат  word_count  word_frac  \\\n",
       "id                                                                        \n",
       "2442477    0           0        0         0    0           5   0.714276   \n",
       "1564599    0           0        0         0    0           2   0.133332   \n",
       "841848     0           0        0         0    0           3   0.499992   \n",
       "\n",
       "         word_total_len  word_avg_len  \n",
       "id                                     \n",
       "2442477              15      2.999940  \n",
       "1564599               8      3.999800  \n",
       "841848               12      3.999867  \n",
       "\n",
       "[3 rows x 1049 columns]"
      ]
     },
     "execution_count": 21,
     "metadata": {},
     "output_type": "execute_result"
    }
   ],
   "source": [
    "df.head(3)"
   ]
  },
  {
   "cell_type": "code",
   "execution_count": 22,
   "metadata": {},
   "outputs": [
    {
     "data": {
      "application/vnd.jupyter.widget-view+json": {
       "model_id": "11ce02eb6fa9499bb0eb69a102436afb",
       "version_major": 2,
       "version_minor": 0
      },
      "text/plain": [
       "  0%|          | 0/1091 [00:00<?, ?it/s]"
      ]
     },
     "metadata": {},
     "output_type": "display_data"
    }
   ],
   "source": [
    "df = pd.concat([df] + [pd.DataFrame({word: df[\"name\"].map(lambda x: count_instances(x, word))})\n",
    "                      for word in tqdm(bigram_words)], axis=1)"
   ]
  },
  {
   "cell_type": "code",
   "execution_count": 23,
   "metadata": {},
   "outputs": [],
   "source": [
    "df['bigram_count'] = df[[word for word in bigram_words]].sum(axis=1)\n",
    "df['bigram_frac'] = df['bigram_count']/(df['count_'] +0.0001)\n",
    "df['bigram_total_len'] = (df[[word for word in bigram_words]]*bigram_lengths).sum(axis=1)\n",
    "df['bigram_avg_len'] = df['bigram_total_len']/(df['bigram_count'] +0.0001)"
   ]
  },
  {
   "cell_type": "code",
   "execution_count": 24,
   "metadata": {},
   "outputs": [
    {
     "data": {
      "text/html": [
       "<div>\n",
       "<style scoped>\n",
       "    .dataframe tbody tr th:only-of-type {\n",
       "        vertical-align: middle;\n",
       "    }\n",
       "\n",
       "    .dataframe tbody tr th {\n",
       "        vertical-align: top;\n",
       "    }\n",
       "\n",
       "    .dataframe thead th {\n",
       "        text-align: right;\n",
       "    }\n",
       "</style>\n",
       "<table border=\"1\" class=\"dataframe\">\n",
       "  <thead>\n",
       "    <tr style=\"text-align: right;\">\n",
       "      <th></th>\n",
       "      <th>name</th>\n",
       "      <th>groups</th>\n",
       "      <th>total_len</th>\n",
       "      <th>sign_len</th>\n",
       "      <th>sign_frac</th>\n",
       "      <th>count_</th>\n",
       "      <th>avg_len</th>\n",
       "      <th>выпаден</th>\n",
       "      <th>повар</th>\n",
       "      <th>ндс</th>\n",
       "      <th>...</th>\n",
       "      <th>колбасн варен</th>\n",
       "      <th>полост рта</th>\n",
       "      <th>яшкин г</th>\n",
       "      <th>р х</th>\n",
       "      <th>шт бл</th>\n",
       "      <th>биойогурт пит</th>\n",
       "      <th>bigram_count</th>\n",
       "      <th>bigram_frac</th>\n",
       "      <th>bigram_total_len</th>\n",
       "      <th>bigram_avg_len</th>\n",
       "    </tr>\n",
       "    <tr>\n",
       "      <th>id</th>\n",
       "      <th></th>\n",
       "      <th></th>\n",
       "      <th></th>\n",
       "      <th></th>\n",
       "      <th></th>\n",
       "      <th></th>\n",
       "      <th></th>\n",
       "      <th></th>\n",
       "      <th></th>\n",
       "      <th></th>\n",
       "      <th></th>\n",
       "      <th></th>\n",
       "      <th></th>\n",
       "      <th></th>\n",
       "      <th></th>\n",
       "      <th></th>\n",
       "      <th></th>\n",
       "      <th></th>\n",
       "      <th></th>\n",
       "      <th></th>\n",
       "      <th></th>\n",
       "    </tr>\n",
       "  </thead>\n",
       "  <tbody>\n",
       "    <tr>\n",
       "      <th>2442477</th>\n",
       "      <td>бзмж молок ультропаст вкуснотеев гр пэт б</td>\n",
       "      <td>3</td>\n",
       "      <td>49</td>\n",
       "      <td>41</td>\n",
       "      <td>0.836735</td>\n",
       "      <td>7</td>\n",
       "      <td>7.000000</td>\n",
       "      <td>0</td>\n",
       "      <td>0</td>\n",
       "      <td>0</td>\n",
       "      <td>...</td>\n",
       "      <td>0</td>\n",
       "      <td>0</td>\n",
       "      <td>0</td>\n",
       "      <td>0</td>\n",
       "      <td>0</td>\n",
       "      <td>0</td>\n",
       "      <td>1</td>\n",
       "      <td>0.142855</td>\n",
       "      <td>10</td>\n",
       "      <td>9.999</td>\n",
       "    </tr>\n",
       "    <tr>\n",
       "      <th>1564599</th>\n",
       "      <td>ноутбук Acer Nitro AN LL FHD IPS i H SSD NV GT...</td>\n",
       "      <td>10</td>\n",
       "      <td>100</td>\n",
       "      <td>60</td>\n",
       "      <td>0.600000</td>\n",
       "      <td>15</td>\n",
       "      <td>6.666667</td>\n",
       "      <td>0</td>\n",
       "      <td>0</td>\n",
       "      <td>0</td>\n",
       "      <td>...</td>\n",
       "      <td>0</td>\n",
       "      <td>0</td>\n",
       "      <td>0</td>\n",
       "      <td>0</td>\n",
       "      <td>0</td>\n",
       "      <td>0</td>\n",
       "      <td>0</td>\n",
       "      <td>0.000000</td>\n",
       "      <td>0</td>\n",
       "      <td>0.000</td>\n",
       "    </tr>\n",
       "    <tr>\n",
       "      <th>841848</th>\n",
       "      <td>жев резинк орб нежн мят XX</td>\n",
       "      <td>10</td>\n",
       "      <td>41</td>\n",
       "      <td>26</td>\n",
       "      <td>0.634146</td>\n",
       "      <td>6</td>\n",
       "      <td>6.833333</td>\n",
       "      <td>0</td>\n",
       "      <td>0</td>\n",
       "      <td>0</td>\n",
       "      <td>...</td>\n",
       "      <td>0</td>\n",
       "      <td>0</td>\n",
       "      <td>0</td>\n",
       "      <td>0</td>\n",
       "      <td>0</td>\n",
       "      <td>0</td>\n",
       "      <td>1</td>\n",
       "      <td>0.166664</td>\n",
       "      <td>10</td>\n",
       "      <td>9.999</td>\n",
       "    </tr>\n",
       "  </tbody>\n",
       "</table>\n",
       "<p>3 rows × 2144 columns</p>\n",
       "</div>"
      ],
      "text/plain": [
       "                                                      name  groups  total_len  \\\n",
       "id                                                                              \n",
       "2442477          бзмж молок ультропаст вкуснотеев гр пэт б       3         49   \n",
       "1564599  ноутбук Acer Nitro AN LL FHD IPS i H SSD NV GT...      10        100   \n",
       "841848                          жев резинк орб нежн мят XX      10         41   \n",
       "\n",
       "         sign_len  sign_frac  count_   avg_len  выпаден  повар  ндс  ...  \\\n",
       "id                                                                   ...   \n",
       "2442477        41   0.836735       7  7.000000        0      0    0  ...   \n",
       "1564599        60   0.600000      15  6.666667        0      0    0  ...   \n",
       "841848         26   0.634146       6  6.833333        0      0    0  ...   \n",
       "\n",
       "         колбасн варен  полост рта  яшкин г  р х  шт бл  биойогурт пит  \\\n",
       "id                                                                       \n",
       "2442477              0           0        0    0      0              0   \n",
       "1564599              0           0        0    0      0              0   \n",
       "841848               0           0        0    0      0              0   \n",
       "\n",
       "         bigram_count  bigram_frac  bigram_total_len  bigram_avg_len  \n",
       "id                                                                    \n",
       "2442477             1     0.142855                10           9.999  \n",
       "1564599             0     0.000000                 0           0.000  \n",
       "841848              1     0.166664                10           9.999  \n",
       "\n",
       "[3 rows x 2144 columns]"
      ]
     },
     "execution_count": 24,
     "metadata": {},
     "output_type": "execute_result"
    }
   ],
   "source": [
    "df.head(3)"
   ]
  },
  {
   "cell_type": "code",
   "execution_count": 25,
   "metadata": {},
   "outputs": [
    {
     "data": {
      "application/vnd.jupyter.widget-view+json": {
       "model_id": "e574a050449041f984431510ad56f6a9",
       "version_major": 2,
       "version_minor": 0
      },
      "text/plain": [
       "  0%|          | 0/329 [00:00<?, ?it/s]"
      ]
     },
     "metadata": {},
     "output_type": "display_data"
    }
   ],
   "source": [
    "df = pd.concat([df] + [pd.DataFrame({word: df[\"name\"].map(lambda x: count_instances(x, word))})\n",
    "                      for word in tqdm(trigram_words)], axis=1)"
   ]
  },
  {
   "cell_type": "code",
   "execution_count": 26,
   "metadata": {},
   "outputs": [],
   "source": [
    "df['trigram_count'] = df[[word for word in trigram_words]].sum(axis=1)\n",
    "df['trigram_frac'] = df['trigram_count']/(df['count_'] +0.0001)\n",
    "df['trigram_total_len'] = (df[[word for word in trigram_words]]*trigram_lengths).sum(axis=1)\n",
    "df['trigram_avg_len'] = df['trigram_total_len']/(df['trigram_count'] + +0.0001)"
   ]
  },
  {
   "cell_type": "code",
   "execution_count": 27,
   "metadata": {},
   "outputs": [
    {
     "data": {
      "text/html": [
       "<div>\n",
       "<style scoped>\n",
       "    .dataframe tbody tr th:only-of-type {\n",
       "        vertical-align: middle;\n",
       "    }\n",
       "\n",
       "    .dataframe tbody tr th {\n",
       "        vertical-align: top;\n",
       "    }\n",
       "\n",
       "    .dataframe thead th {\n",
       "        text-align: right;\n",
       "    }\n",
       "</style>\n",
       "<table border=\"1\" class=\"dataframe\">\n",
       "  <thead>\n",
       "    <tr style=\"text-align: right;\">\n",
       "      <th></th>\n",
       "      <th>name</th>\n",
       "      <th>groups</th>\n",
       "      <th>total_len</th>\n",
       "      <th>sign_len</th>\n",
       "      <th>sign_frac</th>\n",
       "      <th>count_</th>\n",
       "      <th>avg_len</th>\n",
       "      <th>выпаден</th>\n",
       "      <th>повар</th>\n",
       "      <th>ндс</th>\n",
       "      <th>...</th>\n",
       "      <th>хлеб в с</th>\n",
       "      <th>нарезн нарезк г</th>\n",
       "      <th>к мин мяс</th>\n",
       "      <th>икр из кабачк</th>\n",
       "      <th>пш в с</th>\n",
       "      <th>молочн с цельн</th>\n",
       "      <th>trigram_count</th>\n",
       "      <th>trigram_frac</th>\n",
       "      <th>trigram_total_len</th>\n",
       "      <th>trigram_avg_len</th>\n",
       "    </tr>\n",
       "    <tr>\n",
       "      <th>id</th>\n",
       "      <th></th>\n",
       "      <th></th>\n",
       "      <th></th>\n",
       "      <th></th>\n",
       "      <th></th>\n",
       "      <th></th>\n",
       "      <th></th>\n",
       "      <th></th>\n",
       "      <th></th>\n",
       "      <th></th>\n",
       "      <th></th>\n",
       "      <th></th>\n",
       "      <th></th>\n",
       "      <th></th>\n",
       "      <th></th>\n",
       "      <th></th>\n",
       "      <th></th>\n",
       "      <th></th>\n",
       "      <th></th>\n",
       "      <th></th>\n",
       "      <th></th>\n",
       "    </tr>\n",
       "  </thead>\n",
       "  <tbody>\n",
       "    <tr>\n",
       "      <th>2442477</th>\n",
       "      <td>бзмж молок ультропаст вкуснотеев гр пэт б</td>\n",
       "      <td>3</td>\n",
       "      <td>49</td>\n",
       "      <td>41</td>\n",
       "      <td>0.836735</td>\n",
       "      <td>7</td>\n",
       "      <td>7.000000</td>\n",
       "      <td>0</td>\n",
       "      <td>0</td>\n",
       "      <td>0</td>\n",
       "      <td>...</td>\n",
       "      <td>0</td>\n",
       "      <td>0</td>\n",
       "      <td>0</td>\n",
       "      <td>0</td>\n",
       "      <td>0</td>\n",
       "      <td>0</td>\n",
       "      <td>0</td>\n",
       "      <td>0.0</td>\n",
       "      <td>0</td>\n",
       "      <td>0.0</td>\n",
       "    </tr>\n",
       "    <tr>\n",
       "      <th>1564599</th>\n",
       "      <td>ноутбук Acer Nitro AN LL FHD IPS i H SSD NV GT...</td>\n",
       "      <td>10</td>\n",
       "      <td>100</td>\n",
       "      <td>60</td>\n",
       "      <td>0.600000</td>\n",
       "      <td>15</td>\n",
       "      <td>6.666667</td>\n",
       "      <td>0</td>\n",
       "      <td>0</td>\n",
       "      <td>0</td>\n",
       "      <td>...</td>\n",
       "      <td>0</td>\n",
       "      <td>0</td>\n",
       "      <td>0</td>\n",
       "      <td>0</td>\n",
       "      <td>0</td>\n",
       "      <td>0</td>\n",
       "      <td>0</td>\n",
       "      <td>0.0</td>\n",
       "      <td>0</td>\n",
       "      <td>0.0</td>\n",
       "    </tr>\n",
       "    <tr>\n",
       "      <th>841848</th>\n",
       "      <td>жев резинк орб нежн мят XX</td>\n",
       "      <td>10</td>\n",
       "      <td>41</td>\n",
       "      <td>26</td>\n",
       "      <td>0.634146</td>\n",
       "      <td>6</td>\n",
       "      <td>6.833333</td>\n",
       "      <td>0</td>\n",
       "      <td>0</td>\n",
       "      <td>0</td>\n",
       "      <td>...</td>\n",
       "      <td>0</td>\n",
       "      <td>0</td>\n",
       "      <td>0</td>\n",
       "      <td>0</td>\n",
       "      <td>0</td>\n",
       "      <td>0</td>\n",
       "      <td>0</td>\n",
       "      <td>0.0</td>\n",
       "      <td>0</td>\n",
       "      <td>0.0</td>\n",
       "    </tr>\n",
       "  </tbody>\n",
       "</table>\n",
       "<p>3 rows × 2477 columns</p>\n",
       "</div>"
      ],
      "text/plain": [
       "                                                      name  groups  total_len  \\\n",
       "id                                                                              \n",
       "2442477          бзмж молок ультропаст вкуснотеев гр пэт б       3         49   \n",
       "1564599  ноутбук Acer Nitro AN LL FHD IPS i H SSD NV GT...      10        100   \n",
       "841848                          жев резинк орб нежн мят XX      10         41   \n",
       "\n",
       "         sign_len  sign_frac  count_   avg_len  выпаден  повар  ндс  ...  \\\n",
       "id                                                                   ...   \n",
       "2442477        41   0.836735       7  7.000000        0      0    0  ...   \n",
       "1564599        60   0.600000      15  6.666667        0      0    0  ...   \n",
       "841848         26   0.634146       6  6.833333        0      0    0  ...   \n",
       "\n",
       "         хлеб в с  нарезн нарезк г  к мин мяс  икр из кабачк  пш в с  \\\n",
       "id                                                                     \n",
       "2442477         0                0          0              0       0   \n",
       "1564599         0                0          0              0       0   \n",
       "841848          0                0          0              0       0   \n",
       "\n",
       "         молочн с цельн  trigram_count  trigram_frac  trigram_total_len  \\\n",
       "id                                                                        \n",
       "2442477               0              0           0.0                  0   \n",
       "1564599               0              0           0.0                  0   \n",
       "841848                0              0           0.0                  0   \n",
       "\n",
       "         trigram_avg_len  \n",
       "id                        \n",
       "2442477              0.0  \n",
       "1564599              0.0  \n",
       "841848               0.0  \n",
       "\n",
       "[3 rows x 2477 columns]"
      ]
     },
     "execution_count": 27,
     "metadata": {},
     "output_type": "execute_result"
    }
   ],
   "source": [
    "df.head(3)"
   ]
  },
  {
   "cell_type": "code",
   "execution_count": 28,
   "metadata": {},
   "outputs": [],
   "source": [
    "df['total_count'] = df['word_count']+df['bigram_count']+df['trigram_count']\n",
    "df['max_count'] = df['word_count']-df['bigram_count']+df['trigram_count']\n",
    "df['sign_total_len'] = df['word_total_len']+df['bigram_total_len']+df['trigram_total_len']\n",
    "df['sign_avg_len'] = df['sign_total_len']/(df['total_count'] + 0.001)"
   ]
  },
  {
   "cell_type": "code",
   "execution_count": 29,
   "metadata": {},
   "outputs": [
    {
     "data": {
      "text/html": [
       "<div>\n",
       "<style scoped>\n",
       "    .dataframe tbody tr th:only-of-type {\n",
       "        vertical-align: middle;\n",
       "    }\n",
       "\n",
       "    .dataframe tbody tr th {\n",
       "        vertical-align: top;\n",
       "    }\n",
       "\n",
       "    .dataframe thead th {\n",
       "        text-align: right;\n",
       "    }\n",
       "</style>\n",
       "<table border=\"1\" class=\"dataframe\">\n",
       "  <thead>\n",
       "    <tr style=\"text-align: right;\">\n",
       "      <th></th>\n",
       "      <th>name</th>\n",
       "      <th>groups</th>\n",
       "      <th>total_len</th>\n",
       "      <th>sign_len</th>\n",
       "      <th>sign_frac</th>\n",
       "      <th>count_</th>\n",
       "      <th>avg_len</th>\n",
       "      <th>выпаден</th>\n",
       "      <th>повар</th>\n",
       "      <th>ндс</th>\n",
       "      <th>...</th>\n",
       "      <th>пш в с</th>\n",
       "      <th>молочн с цельн</th>\n",
       "      <th>trigram_count</th>\n",
       "      <th>trigram_frac</th>\n",
       "      <th>trigram_total_len</th>\n",
       "      <th>trigram_avg_len</th>\n",
       "      <th>total_count</th>\n",
       "      <th>max_count</th>\n",
       "      <th>sign_total_len</th>\n",
       "      <th>sign_avg_len</th>\n",
       "    </tr>\n",
       "    <tr>\n",
       "      <th>id</th>\n",
       "      <th></th>\n",
       "      <th></th>\n",
       "      <th></th>\n",
       "      <th></th>\n",
       "      <th></th>\n",
       "      <th></th>\n",
       "      <th></th>\n",
       "      <th></th>\n",
       "      <th></th>\n",
       "      <th></th>\n",
       "      <th></th>\n",
       "      <th></th>\n",
       "      <th></th>\n",
       "      <th></th>\n",
       "      <th></th>\n",
       "      <th></th>\n",
       "      <th></th>\n",
       "      <th></th>\n",
       "      <th></th>\n",
       "      <th></th>\n",
       "      <th></th>\n",
       "    </tr>\n",
       "  </thead>\n",
       "  <tbody>\n",
       "    <tr>\n",
       "      <th>2442477</th>\n",
       "      <td>бзмж молок ультропаст вкуснотеев гр пэт б</td>\n",
       "      <td>3</td>\n",
       "      <td>49</td>\n",
       "      <td>41</td>\n",
       "      <td>0.836735</td>\n",
       "      <td>7</td>\n",
       "      <td>7.000000</td>\n",
       "      <td>0</td>\n",
       "      <td>0</td>\n",
       "      <td>0</td>\n",
       "      <td>...</td>\n",
       "      <td>0</td>\n",
       "      <td>0</td>\n",
       "      <td>0</td>\n",
       "      <td>0.0</td>\n",
       "      <td>0</td>\n",
       "      <td>0.0</td>\n",
       "      <td>6</td>\n",
       "      <td>4</td>\n",
       "      <td>25</td>\n",
       "      <td>4.165972</td>\n",
       "    </tr>\n",
       "    <tr>\n",
       "      <th>1564599</th>\n",
       "      <td>ноутбук Acer Nitro AN LL FHD IPS i H SSD NV GT...</td>\n",
       "      <td>10</td>\n",
       "      <td>100</td>\n",
       "      <td>60</td>\n",
       "      <td>0.600000</td>\n",
       "      <td>15</td>\n",
       "      <td>6.666667</td>\n",
       "      <td>0</td>\n",
       "      <td>0</td>\n",
       "      <td>0</td>\n",
       "      <td>...</td>\n",
       "      <td>0</td>\n",
       "      <td>0</td>\n",
       "      <td>0</td>\n",
       "      <td>0.0</td>\n",
       "      <td>0</td>\n",
       "      <td>0.0</td>\n",
       "      <td>2</td>\n",
       "      <td>2</td>\n",
       "      <td>8</td>\n",
       "      <td>3.998001</td>\n",
       "    </tr>\n",
       "    <tr>\n",
       "      <th>841848</th>\n",
       "      <td>жев резинк орб нежн мят XX</td>\n",
       "      <td>10</td>\n",
       "      <td>41</td>\n",
       "      <td>26</td>\n",
       "      <td>0.634146</td>\n",
       "      <td>6</td>\n",
       "      <td>6.833333</td>\n",
       "      <td>0</td>\n",
       "      <td>0</td>\n",
       "      <td>0</td>\n",
       "      <td>...</td>\n",
       "      <td>0</td>\n",
       "      <td>0</td>\n",
       "      <td>0</td>\n",
       "      <td>0.0</td>\n",
       "      <td>0</td>\n",
       "      <td>0.0</td>\n",
       "      <td>4</td>\n",
       "      <td>2</td>\n",
       "      <td>22</td>\n",
       "      <td>5.498625</td>\n",
       "    </tr>\n",
       "  </tbody>\n",
       "</table>\n",
       "<p>3 rows × 2481 columns</p>\n",
       "</div>"
      ],
      "text/plain": [
       "                                                      name  groups  total_len  \\\n",
       "id                                                                              \n",
       "2442477          бзмж молок ультропаст вкуснотеев гр пэт б       3         49   \n",
       "1564599  ноутбук Acer Nitro AN LL FHD IPS i H SSD NV GT...      10        100   \n",
       "841848                          жев резинк орб нежн мят XX      10         41   \n",
       "\n",
       "         sign_len  sign_frac  count_   avg_len  выпаден  повар  ндс  ...  \\\n",
       "id                                                                   ...   \n",
       "2442477        41   0.836735       7  7.000000        0      0    0  ...   \n",
       "1564599        60   0.600000      15  6.666667        0      0    0  ...   \n",
       "841848         26   0.634146       6  6.833333        0      0    0  ...   \n",
       "\n",
       "         пш в с  молочн с цельн  trigram_count  trigram_frac  \\\n",
       "id                                                             \n",
       "2442477       0               0              0           0.0   \n",
       "1564599       0               0              0           0.0   \n",
       "841848        0               0              0           0.0   \n",
       "\n",
       "         trigram_total_len  trigram_avg_len  total_count  max_count  \\\n",
       "id                                                                    \n",
       "2442477                  0              0.0            6          4   \n",
       "1564599                  0              0.0            2          2   \n",
       "841848                   0              0.0            4          2   \n",
       "\n",
       "         sign_total_len  sign_avg_len  \n",
       "id                                     \n",
       "2442477              25      4.165972  \n",
       "1564599               8      3.998001  \n",
       "841848               22      5.498625  \n",
       "\n",
       "[3 rows x 2481 columns]"
      ]
     },
     "execution_count": 29,
     "metadata": {},
     "output_type": "execute_result"
    }
   ],
   "source": [
    "df.head(3)"
   ]
  },
  {
   "cell_type": "markdown",
   "metadata": {
    "id": "870l_9AGdTvF"
   },
   "source": [
    "## Разделим выборку на тренировочную и валидационную"
   ]
  },
  {
   "cell_type": "code",
   "execution_count": 30,
   "metadata": {
    "id": "R4fN_sD-dGSG"
   },
   "outputs": [],
   "source": [
    "X = df.drop([\"name\",\"groups\"], axis = 1)\n",
    "y = df[\"groups\"]"
   ]
  },
  {
   "cell_type": "code",
   "execution_count": 31,
   "metadata": {
    "colab": {
     "base_uri": "https://localhost:8080/"
    },
    "id": "Xbgef81UdZJL",
    "outputId": "28bf34e6-f647-4673-b55c-3a3f52d2f4d0"
   },
   "outputs": [
    {
     "name": "stdout",
     "output_type": "stream",
     "text": [
      "<class 'pandas.core.frame.DataFrame'>\n",
      "Int64Index: 658064 entries, 2442477 to 494535\n",
      "Columns: 2479 entries, total_len to sign_avg_len\n",
      "dtypes: float64(9), int64(2470)\n",
      "memory usage: 12.2 GB\n"
     ]
    }
   ],
   "source": [
    "X.info()"
   ]
  },
  {
   "cell_type": "code",
   "execution_count": 32,
   "metadata": {
    "id": "_e7ZJ3QjdZLW"
   },
   "outputs": [],
   "source": [
    "X_train, X_test, y_train, y_test = train_test_split(X, y, test_size=0.3, stratify=y)"
   ]
  },
  {
   "cell_type": "markdown",
   "metadata": {},
   "source": [
    "##  Вычислим веса классов"
   ]
  },
  {
   "cell_type": "code",
   "execution_count": 33,
   "metadata": {},
   "outputs": [
    {
     "data": {
      "image/png": "[encoded data removed]",
      "text/plain": [
       "<Figure size 432x288 with 1 Axes>"
      ]
     },
     "metadata": {
      "needs_background": "light"
     },
     "output_type": "display_data"
    }
   ],
   "source": [
    "plt.hist(y_train)\n",
    "plt.title('Distribution of classes in train dataset')\n",
    "plt.yscale('log')\n",
    "plt.ylabel('Number of elements in train dataset (log scale)')\n",
    "plt.xlabel('Classes')\n",
    "plt.show()"
   ]
  },
  {
   "cell_type": "code",
   "execution_count": 34,
   "metadata": {},
   "outputs": [
    {
     "data": {
      "text/plain": [
       "{0: 3.390478714008126,\n",
       " 1: 4.267000138946783,\n",
       " 2: 18.7413645795191,\n",
       " 3: 3.4742510634446555,\n",
       " 4: 2.650029339684512,\n",
       " 6: 7.3065905305734,\n",
       " 7: 6.067172435593489,\n",
       " 9: 1.7408478169676769,\n",
       " 10: 0.14543257163748505}"
      ]
     },
     "execution_count": 34,
     "metadata": {},
     "output_type": "execute_result"
    }
   ],
   "source": [
    "classes = np.unique(y_train)\n",
    "weights = compute_class_weight(class_weight='balanced', classes=classes, y=y_train)\n",
    "class_weights = dict(zip(classes, weights))\n",
    "class_weights"
   ]
  },
  {
   "cell_type": "markdown",
   "metadata": {
    "id": "wWOMlu5megED"
   },
   "source": [
    "## Обучение модели"
   ]
  },
  {
   "cell_type": "code",
   "execution_count": 35,
   "metadata": {
    "scrolled": true
   },
   "outputs": [
    {
     "data": {
      "application/vnd.jupyter.widget-view+json": {
       "model_id": "be248ca7ee504a87a0d8b7bea857912a",
       "version_major": 2,
       "version_minor": 0
      },
      "text/plain": [
       "MetricVisualizer(layout=Layout(align_self='stretch', height='500px'))"
      ]
     },
     "metadata": {},
     "output_type": "display_data"
    },
    {
     "name": "stdout",
     "output_type": "stream",
     "text": [
      "Learning rate set to 0.050652\n",
      "0:\tlearn: 0.3275724\ttest: 0.3280577\tbest: 0.3280577 (0)\ttotal: 385ms\tremaining: 1h 4m 5s\n",
      "200:\tlearn: 0.9371113\ttest: 0.9345547\tbest: 0.9350958 (194)\ttotal: 47.7s\tremaining: 38m 47s\n",
      "400:\tlearn: 0.9547744\ttest: 0.9532518\tbest: 0.9532693 (399)\ttotal: 1m 33s\tremaining: 37m 16s\n",
      "600:\tlearn: 0.9639782\ttest: 0.9641153\tbest: 0.9641680 (599)\ttotal: 2m 19s\tremaining: 36m 25s\n",
      "800:\tlearn: 0.9665119\ttest: 0.9665219\tbest: 0.9665341 (794)\ttotal: 3m 8s\tremaining: 36m\n",
      "1000:\tlearn: 0.9690993\ttest: 0.9687838\tbest: 0.9687838 (1000)\ttotal: 3m 57s\tremaining: 35m 37s\n",
      "1200:\tlearn: 0.9700543\ttest: 0.9696995\tbest: 0.9697417 (1178)\ttotal: 4m 47s\tremaining: 35m 4s\n",
      "1400:\tlearn: 0.9712694\ttest: 0.9710837\tbest: 0.9711199 (1399)\ttotal: 5m 37s\tremaining: 34m 30s\n",
      "1600:\tlearn: 0.9725904\ttest: 0.9723218\tbest: 0.9723603 (1577)\ttotal: 6m 29s\tremaining: 34m 4s\n",
      "1800:\tlearn: 0.9737916\ttest: 0.9728587\tbest: 0.9728931 (1793)\ttotal: 7m 22s\tremaining: 33m 35s\n",
      "2000:\tlearn: 0.9744573\ttest: 0.9733633\tbest: 0.9733867 (1986)\ttotal: 8m 15s\tremaining: 33m\n",
      "2200:\tlearn: 0.9753536\ttest: 0.9740104\tbest: 0.9740104 (2196)\ttotal: 9m 8s\tremaining: 32m 22s\n",
      "2400:\tlearn: 0.9760004\ttest: 0.9743498\tbest: 0.9743506 (2396)\ttotal: 10m\tremaining: 31m 40s\n",
      "2600:\tlearn: 0.9765501\ttest: 0.9745576\tbest: 0.9745780 (2585)\ttotal: 10m 54s\tremaining: 31m\n",
      "2800:\tlearn: 0.9769487\ttest: 0.9748975\tbest: 0.9748975 (2797)\ttotal: 11m 47s\tremaining: 30m 17s\n",
      "3000:\tlearn: 0.9774924\ttest: 0.9750843\tbest: 0.9750843 (2999)\ttotal: 12m 40s\tremaining: 29m 32s\n",
      "3200:\tlearn: 0.9781557\ttest: 0.9752137\tbest: 0.9752137 (3200)\ttotal: 13m 33s\tremaining: 28m 48s\n",
      "3400:\tlearn: 0.9784970\ttest: 0.9755647\tbest: 0.9755962 (3392)\ttotal: 14m 29s\tremaining: 28m 7s\n",
      "3600:\tlearn: 0.9789139\ttest: 0.9756310\tbest: 0.9757686 (3494)\ttotal: 15m 29s\tremaining: 27m 30s\n",
      "3800:\tlearn: 0.9793076\ttest: 0.9759202\tbest: 0.9759202 (3800)\ttotal: 16m 29s\tremaining: 26m 53s\n",
      "4000:\tlearn: 0.9796701\ttest: 0.9761339\tbest: 0.9761355 (3967)\ttotal: 17m 27s\tremaining: 26m 11s\n",
      "4200:\tlearn: 0.9800173\ttest: 0.9762370\tbest: 0.9762772 (4165)\ttotal: 18m 27s\tremaining: 25m 28s\n",
      "4400:\tlearn: 0.9804494\ttest: 0.9762680\tbest: 0.9763100 (4385)\ttotal: 19m 23s\tremaining: 24m 40s\n",
      "4600:\tlearn: 0.9806174\ttest: 0.9763956\tbest: 0.9764438 (4538)\ttotal: 20m 19s\tremaining: 23m 51s\n",
      "4800:\tlearn: 0.9810056\ttest: 0.9764552\tbest: 0.9764552 (4800)\ttotal: 21m 20s\tremaining: 23m 6s\n",
      "5000:\tlearn: 0.9810357\ttest: 0.9767224\tbest: 0.9767231 (4997)\ttotal: 22m 19s\tremaining: 22m 18s\n",
      "5200:\tlearn: 0.9814209\ttest: 0.9767626\tbest: 0.9767987 (5199)\ttotal: 23m 17s\tremaining: 21m 29s\n",
      "5400:\tlearn: 0.9815987\ttest: 0.9767538\tbest: 0.9768413 (5246)\ttotal: 24m 16s\tremaining: 20m 40s\n",
      "5600:\tlearn: 0.9818516\ttest: 0.9769049\tbest: 0.9769525 (5499)\ttotal: 25m 16s\tremaining: 19m 51s\n",
      "5800:\tlearn: 0.9821760\ttest: 0.9769981\tbest: 0.9770178 (5791)\ttotal: 26m 16s\tremaining: 19m 1s\n",
      "6000:\tlearn: 0.9822959\ttest: 0.9770785\tbest: 0.9770819 (5953)\ttotal: 27m 16s\tremaining: 18m 10s\n",
      "6200:\tlearn: 0.9824196\ttest: 0.9772251\tbest: 0.9772251 (6200)\ttotal: 28m 16s\tremaining: 17m 19s\n",
      "6400:\tlearn: 0.9825754\ttest: 0.9772255\tbest: 0.9772901 (6291)\ttotal: 29m 15s\tremaining: 16m 27s\n",
      "6600:\tlearn: 0.9827255\ttest: 0.9774101\tbest: 0.9775387 (6528)\ttotal: 30m 17s\tremaining: 15m 35s\n",
      "6800:\tlearn: 0.9829132\ttest: 0.9775968\tbest: 0.9776079 (6788)\ttotal: 31m 18s\tremaining: 14m 43s\n",
      "7000:\tlearn: 0.9831515\ttest: 0.9777857\tbest: 0.9777864 (6993)\ttotal: 32m 19s\tremaining: 13m 50s\n",
      "7200:\tlearn: 0.9832526\ttest: 0.9778686\tbest: 0.9778918 (7085)\ttotal: 33m 20s\tremaining: 12m 57s\n",
      "7400:\tlearn: 0.9834880\ttest: 0.9780095\tbest: 0.9780095 (7400)\ttotal: 34m 23s\tremaining: 12m 4s\n",
      "7600:\tlearn: 0.9836941\ttest: 0.9780210\tbest: 0.9780340 (7434)\ttotal: 35m 25s\tremaining: 11m 10s\n",
      "7800:\tlearn: 0.9838066\ttest: 0.9780669\tbest: 0.9780825 (7785)\ttotal: 36m 27s\tremaining: 10m 16s\n",
      "8000:\tlearn: 0.9839697\ttest: 0.9781110\tbest: 0.9781257 (7995)\ttotal: 37m 31s\tremaining: 9m 22s\n",
      "8200:\tlearn: 0.9842035\ttest: 0.9781513\tbest: 0.9781831 (8186)\ttotal: 38m 38s\tremaining: 8m 28s\n",
      "8400:\tlearn: 0.9842934\ttest: 0.9783245\tbest: 0.9783289 (8328)\ttotal: 39m 44s\tremaining: 7m 33s\n",
      "8600:\tlearn: 0.9844277\ttest: 0.9783967\tbest: 0.9785136 (8588)\ttotal: 40m 53s\tremaining: 6m 39s\n",
      "8800:\tlearn: 0.9846445\ttest: 0.9784476\tbest: 0.9785154 (8631)\ttotal: 41m 59s\tremaining: 5m 43s\n",
      "9000:\tlearn: 0.9848124\ttest: 0.9784827\tbest: 0.9785154 (8631)\ttotal: 43m 9s\tremaining: 4m 47s\n",
      "9200:\tlearn: 0.9849882\ttest: 0.9784705\tbest: 0.9786348 (9069)\ttotal: 44m 15s\tremaining: 3m 50s\n",
      "9400:\tlearn: 0.9851982\ttest: 0.9785414\tbest: 0.9786348 (9069)\ttotal: 45m 22s\tremaining: 2m 53s\n",
      "9600:\tlearn: 0.9853507\ttest: 0.9786665\tbest: 0.9786694 (9584)\ttotal: 46m 29s\tremaining: 1m 55s\n",
      "9800:\tlearn: 0.9854996\ttest: 0.9786431\tbest: 0.9787031 (9717)\ttotal: 47m 35s\tremaining: 58s\n",
      "9999:\tlearn: 0.9855565\ttest: 0.9785689\tbest: 0.9787031 (9717)\ttotal: 48m 41s\tremaining: 0us\n",
      "\n",
      "bestTest = 0.9787031203\n",
      "bestIteration = 9717\n",
      "\n",
      "Shrink model to first 9718 iterations.\n"
     ]
    },
    {
     "data": {
      "text/plain": [
       "<catboost.core.CatBoostClassifier at 0x7fdb0aa631f0>"
      ]
     },
     "execution_count": 35,
     "metadata": {},
     "output_type": "execute_result"
    }
   ],
   "source": [
    "params = {'loss_function':'MultiClass',\n",
    "          'eval_metric':'TotalF1:average=Macro',\n",
    "          'custom_metric':'Recall',\n",
    "          'class_weights': class_weights,\n",
    "          'verbose': 200,\n",
    "          'iterations': 10000,\n",
    "          'depth': 3\n",
    "         }\n",
    "model = CatBoostClassifier(**params)\n",
    "model.fit(X_train, y_train,\n",
    "          eval_set=(X_test, y_test),\n",
    "          use_best_model=True,\n",
    "          plot=True\n",
    "         )"
   ]
  },
  {
   "cell_type": "markdown",
   "metadata": {},
   "source": [
    "## Важность признаков"
   ]
  },
  {
   "cell_type": "code",
   "execution_count": 36,
   "metadata": {},
   "outputs": [
    {
     "data": {
      "image/png": "[encoded data removed]",
      "text/plain": [
       "<Figure size 432x288 with 1 Axes>"
      ]
     },
     "metadata": {
      "needs_background": "light"
     },
     "output_type": "display_data"
    }
   ],
   "source": [
    "feature_importance = model.get_feature_importance()\n",
    "feature_ranks = feature_importance.argsort()[::-1]\n",
    "sns.barplot(y=X.columns[feature_ranks[:10]],x=feature_importance[feature_ranks[:10]])\n",
    "plt.title('Top-10 most important features according to CatBoost')\n",
    "plt.ylabel('Features')\n",
    "plt.xlabel('Feature importance score')\n",
    "plt.show()"
   ]
  },
  {
   "cell_type": "code",
   "execution_count": 77,
   "metadata": {},
   "outputs": [
    {
     "data": {
      "image/png": "[encoded data removed]",
      "text/plain": [
       "<Figure size 432x288 with 1 Axes>"
      ]
     },
     "metadata": {
      "needs_background": "light"
     },
     "output_type": "display_data"
    }
   ],
   "source": [
    "barWidth = 0.25\n",
    "important_keywords = X.columns[feature_importance > 0.0001]\n",
    "all_keywords = [len(name_words), len(bigram_words), len(trigram_words)]\n",
    "significant_keywords = [len(set(important_keywords).intersection(set(name_words))), \n",
    "                        len(set(important_keywords).intersection(set(bigram_words))),  \n",
    "                        len(set(important_keywords).intersection(set(trigram_words)))]\n",
    "br1 = np.arange(len(all_keywords))\n",
    "br2 = [x + barWidth for x in br1]\n",
    "plt.bar(br1, all_keywords, color ='r', width = barWidth,\n",
    "        edgecolor ='grey', label ='all keywords')\n",
    "plt.bar(br2, significant_keywords, width = barWidth, label ='used keywords')\n",
    "plt.xlabel('Keyword type')\n",
    "plt.ylabel('Number of keywords')\n",
    "plt.xticks([r + barWidth/2 for r in range(len(all_keywords))],\n",
    "        ['Singletons', 'Bigrams', 'Trigrams'])\n",
    "plt.legend()\n",
    "plt.title('All supplied keywords vs Keywords used by the model')\n",
    "plt.show()"
   ]
  },
  {
   "cell_type": "markdown",
   "metadata": {},
   "source": [
    "## Промежуточное сохраниние результатов\n",
    "\n",
    "`model.json` -- обученная модель\n",
    "\n",
    "`column_names.csv` -- названия всех использованных признаков\n",
    "\n",
    "`important_keywords.csv` -- названия признаков, от которых существенно зависят предсказания моделей"
   ]
  },
  {
   "cell_type": "code",
   "execution_count": 37,
   "metadata": {},
   "outputs": [],
   "source": [
    "model.save_model(\n",
    "    \"model.json\",\n",
    "    format=\"json\",\n",
    "    # pool=pool  # this parameter is required only for models with categorical features.\n",
    ")"
   ]
  },
  {
   "cell_type": "code",
   "execution_count": 38,
   "metadata": {},
   "outputs": [],
   "source": [
    "pd.Series(important_keywords).to_csv('./important_keywords.csv', index=False)"
   ]
  },
  {
   "cell_type": "code",
   "execution_count": 39,
   "metadata": {},
   "outputs": [],
   "source": [
    "pd.Series(X.columns).to_csv('./column_names.csv', index=False)"
   ]
  },
  {
   "cell_type": "markdown",
   "metadata": {
    "id": "vUPON7vxenEJ"
   },
   "source": [
    "## Оценка точности"
   ]
  },
  {
   "cell_type": "code",
   "execution_count": 40,
   "metadata": {
    "id": "m1g031fzexib"
   },
   "outputs": [],
   "source": [
    "pred = model.predict(X_test)"
   ]
  },
  {
   "cell_type": "code",
   "execution_count": 41,
   "metadata": {
    "colab": {
     "base_uri": "https://localhost:8080/"
    },
    "id": "OaySnwRzejpc",
    "outputId": "2c5934d5-86ec-42d2-820b-c6ad85bf2702"
   },
   "outputs": [
    {
     "name": "stdout",
     "output_type": "stream",
     "text": [
      "Recall score: 0.9787484983182237\n"
     ]
    }
   ],
   "source": [
    "from sklearn.metrics import recall_score\n",
    "\n",
    "score = recall_score(y_test, pred, average='macro')\n",
    "print(\"Recall score:\", score)"
   ]
  },
  {
   "cell_type": "markdown",
   "metadata": {},
   "source": [
    "## Предсказание на тестовых данных"
   ]
  },
  {
   "cell_type": "code",
   "execution_count": 42,
   "metadata": {},
   "outputs": [
    {
     "data": {
      "text/html": [
       "<div>\n",
       "<style scoped>\n",
       "    .dataframe tbody tr th:only-of-type {\n",
       "        vertical-align: middle;\n",
       "    }\n",
       "\n",
       "    .dataframe tbody tr th {\n",
       "        vertical-align: top;\n",
       "    }\n",
       "\n",
       "    .dataframe thead th {\n",
       "        text-align: right;\n",
       "    }\n",
       "</style>\n",
       "<table border=\"1\" class=\"dataframe\">\n",
       "  <thead>\n",
       "    <tr style=\"text-align: right;\">\n",
       "      <th></th>\n",
       "      <th>name</th>\n",
       "    </tr>\n",
       "    <tr>\n",
       "      <th>id</th>\n",
       "      <th></th>\n",
       "    </tr>\n",
       "  </thead>\n",
       "  <tbody>\n",
       "    <tr>\n",
       "      <th>10529</th>\n",
       "      <td>КАРАМЕЛЬ \"ЛАКОМКА-СУПЕРМОЛОЧНАЯ\" ВЕС (РОТ ФРОНТ)</td>\n",
       "    </tr>\n",
       "    <tr>\n",
       "      <th>10530</th>\n",
       "      <td>2: 3637233 РАЭ Масло ТРАДИЦ.слив.82,5% 1</td>\n",
       "    </tr>\n",
       "    <tr>\n",
       "      <th>10531</th>\n",
       "      <td>960012-LG NS  Бинт эластичный Classic лаймовый...</td>\n",
       "    </tr>\n",
       "  </tbody>\n",
       "</table>\n",
       "</div>"
      ],
      "text/plain": [
       "                                                    name\n",
       "id                                                      \n",
       "10529   КАРАМЕЛЬ \"ЛАКОМКА-СУПЕРМОЛОЧНАЯ\" ВЕС (РОТ ФРОНТ)\n",
       "10530           2: 3637233 РАЭ Масло ТРАДИЦ.слив.82,5% 1\n",
       "10531  960012-LG NS  Бинт эластичный Classic лаймовый..."
      ]
     },
     "execution_count": 42,
     "metadata": {},
     "output_type": "execute_result"
    }
   ],
   "source": [
    "df_test = pd.read_csv(\"test_dataset_test.csv\", index_col='id').dropna()\n",
    "df_test.head(3)"
   ]
  },
  {
   "cell_type": "code",
   "execution_count": 43,
   "metadata": {},
   "outputs": [],
   "source": [
    "key_words = pd.read_csv('column_names.csv').iloc[:, 0]\n",
    "name_words = list(filter(lambda x: '_' not in x and len(x.split()) == 1, key_words))\n",
    "bigram_words = list(filter(lambda x: '_' not in x and len(x.split()) == 2, key_words))\n",
    "trigram_words = list(filter(lambda x: '_' not in x and len(x.split()) == 3, key_words))"
   ]
  },
  {
   "cell_type": "code",
   "execution_count": 44,
   "metadata": {},
   "outputs": [
    {
     "data": {
      "application/vnd.jupyter.widget-view+json": {
       "model_id": "33ff3e10cd7a4226a6611c7caf7afd5c",
       "version_major": 2,
       "version_minor": 0
      },
      "text/plain": [
       "  0%|          | 0/282227 [00:00<?, ?it/s]"
      ]
     },
     "metadata": {},
     "output_type": "display_data"
    },
    {
     "data": {
      "application/vnd.jupyter.widget-view+json": {
       "model_id": "c6283afaaa24492795289dbd5993d864",
       "version_major": 2,
       "version_minor": 0
      },
      "text/plain": [
       "  0%|          | 0/282227 [00:00<?, ?it/s]"
      ]
     },
     "metadata": {},
     "output_type": "display_data"
    },
    {
     "data": {
      "application/vnd.jupyter.widget-view+json": {
       "model_id": "6209de01b1014d99860de345705dc32d",
       "version_major": 2,
       "version_minor": 0
      },
      "text/plain": [
       "  0%|          | 0/282227 [00:00<?, ?it/s]"
      ]
     },
     "metadata": {},
     "output_type": "display_data"
    },
    {
     "data": {
      "application/vnd.jupyter.widget-view+json": {
       "model_id": "cdaf5c88abb64812bf2298c675d003a0",
       "version_major": 2,
       "version_minor": 0
      },
      "text/plain": [
       "  0%|          | 0/282227 [00:00<?, ?it/s]"
      ]
     },
     "metadata": {},
     "output_type": "display_data"
    }
   ],
   "source": [
    "df_test['total_len'] = df_test['name'].fillna(' ').progress_apply(len)\n",
    "df_test['name'] = df_test['name'].fillna('').progress_apply(lambda x: ' '.join(filter(lambda x: len(x) > 0, map(stemmer.stem, \n",
    "                                                                                    re.split(r'[ ,\"\\-.()0-9//%:\\*]', \n",
    "                                                                                             x)))))\n",
    "df_test['sign_len'] = df_test['name'].fillna('').progress_apply(len)\n",
    "df_test['sign_frac'] = df_test['sign_len']/df_test['total_len']\n",
    "df_test['count_'] = df_test['name'].fillna('').progress_apply(lambda x: len(x.split()))\n",
    "df_test['avg_len'] = df_test['total_len']/df_test['count_']"
   ]
  },
  {
   "cell_type": "code",
   "execution_count": 45,
   "metadata": {},
   "outputs": [
    {
     "data": {
      "application/vnd.jupyter.widget-view+json": {
       "model_id": "d7d5640440674357b5321ac3c52ae896",
       "version_major": 2,
       "version_minor": 0
      },
      "text/plain": [
       "  0%|          | 0/971 [00:00<?, ?it/s]"
      ]
     },
     "metadata": {},
     "output_type": "display_data"
    }
   ],
   "source": [
    "df_test = pd.concat([df_test] + [pd.DataFrame({word: df_test[\"name\"].map(lambda x: count_instances(x, word))})\n",
    "                      for word in tqdm(name_words)], axis=1)"
   ]
  },
  {
   "cell_type": "code",
   "execution_count": 46,
   "metadata": {},
   "outputs": [],
   "source": [
    "word_lengths = pd.Series({word: len(word) for word in name_words})\n",
    "df_test['word_count'] = df_test[[word for word in name_words]].sum(axis=1)\n",
    "df_test['word_frac'] = df_test['word_count']/(df_test['count_'] +0.0001)\n",
    "df_test['word_total_len'] = (df_test[[word for word in name_words]]*word_lengths).sum(axis=1)\n",
    "df_test['word_avg_len'] = df_test['word_total_len']/(df_test['word_count'] +0.0001)"
   ]
  },
  {
   "cell_type": "code",
   "execution_count": 47,
   "metadata": {},
   "outputs": [
    {
     "data": {
      "application/vnd.jupyter.widget-view+json": {
       "model_id": "fa775d8f66a54a2f829f62fde20c5240",
       "version_major": 2,
       "version_minor": 0
      },
      "text/plain": [
       "  0%|          | 0/910 [00:00<?, ?it/s]"
      ]
     },
     "metadata": {},
     "output_type": "display_data"
    }
   ],
   "source": [
    "df_test = pd.concat([df_test] + [pd.DataFrame({word: df_test[\"name\"].map(lambda x: count_instances(x, word))})\n",
    "                      for word in tqdm(bigram_words)], axis=1)"
   ]
  },
  {
   "cell_type": "code",
   "execution_count": 48,
   "metadata": {},
   "outputs": [],
   "source": [
    "bigram_lengths = pd.Series({word: len(word) for word in bigram_words})\n",
    "df_test['bigram_count'] = df_test[[word for word in bigram_words]].sum(axis=1)\n",
    "df_test['bigram_frac'] = df_test['bigram_count']/(df_test['count_'] +0.0001)\n",
    "df_test['bigram_total_len'] = (df_test[[word for word in bigram_words]]*bigram_lengths).sum(axis=1)\n",
    "df_test['bigram_avg_len'] = df_test['bigram_total_len']/(df_test['bigram_count'] +0.0001)"
   ]
  },
  {
   "cell_type": "code",
   "execution_count": 49,
   "metadata": {},
   "outputs": [
    {
     "data": {
      "application/vnd.jupyter.widget-view+json": {
       "model_id": "e88bd94d0cec4160a0df2a8c791f351e",
       "version_major": 2,
       "version_minor": 0
      },
      "text/plain": [
       "  0%|          | 0/278 [00:00<?, ?it/s]"
      ]
     },
     "metadata": {},
     "output_type": "display_data"
    }
   ],
   "source": [
    "df_test = pd.concat([df_test] + [pd.DataFrame({word: df_test[\"name\"].map(lambda x: count_instances(x, word))})\n",
    "                      for word in tqdm(trigram_words)], axis=1)"
   ]
  },
  {
   "cell_type": "code",
   "execution_count": 50,
   "metadata": {},
   "outputs": [],
   "source": [
    "trigram_lengths = pd.Series({word: len(word) for word in trigram_words})\n",
    "df_test['trigram_count'] = df_test[[word for word in trigram_words]].sum(axis=1)\n",
    "df_test['trigram_frac'] = df_test['trigram_count']/(df_test['count_'] +0.0001)\n",
    "df_test['trigram_total_len'] = (df_test[[word for word in trigram_words]]*trigram_lengths).sum(axis=1)\n",
    "df_test['trigram_avg_len'] = df_test['trigram_total_len']/(df_test['trigram_count'] + 0.0001)"
   ]
  },
  {
   "cell_type": "code",
   "execution_count": 51,
   "metadata": {},
   "outputs": [],
   "source": [
    "df_test['total_count'] = df_test['word_count']+df_test['bigram_count']+df_test['trigram_count']\n",
    "df_test['max_count'] = df_test['word_count']-df_test['bigram_count']+df_test['trigram_count']\n",
    "df_test['sign_total_len'] = df_test['word_total_len']+df_test['bigram_total_len']+df_test['trigram_total_len']\n",
    "df_test['sign_avg_len'] = df_test['sign_total_len']/(df_test['total_count'] + 0.001)"
   ]
  },
  {
   "cell_type": "code",
   "execution_count": 52,
   "metadata": {},
   "outputs": [],
   "source": [
    "df_test = df_test.drop(columns=['name'])"
   ]
  },
  {
   "cell_type": "code",
   "execution_count": 53,
   "metadata": {},
   "outputs": [
    {
     "data": {
      "text/html": [
       "<div>\n",
       "<style scoped>\n",
       "    .dataframe tbody tr th:only-of-type {\n",
       "        vertical-align: middle;\n",
       "    }\n",
       "\n",
       "    .dataframe tbody tr th {\n",
       "        vertical-align: top;\n",
       "    }\n",
       "\n",
       "    .dataframe thead th {\n",
       "        text-align: right;\n",
       "    }\n",
       "</style>\n",
       "<table border=\"1\" class=\"dataframe\">\n",
       "  <thead>\n",
       "    <tr style=\"text-align: right;\">\n",
       "      <th></th>\n",
       "      <th>total_len</th>\n",
       "      <th>sign_len</th>\n",
       "      <th>sign_frac</th>\n",
       "      <th>count_</th>\n",
       "      <th>avg_len</th>\n",
       "      <th>компан</th>\n",
       "      <th>любан</th>\n",
       "      <th>ун</th>\n",
       "      <th>эдельвейс</th>\n",
       "      <th>д</th>\n",
       "      <th>...</th>\n",
       "      <th>ж б шт</th>\n",
       "      <th>в к мин</th>\n",
       "      <th>trigram_count</th>\n",
       "      <th>trigram_frac</th>\n",
       "      <th>trigram_total_len</th>\n",
       "      <th>trigram_avg_len</th>\n",
       "      <th>total_count</th>\n",
       "      <th>max_count</th>\n",
       "      <th>sign_total_len</th>\n",
       "      <th>sign_avg_len</th>\n",
       "    </tr>\n",
       "    <tr>\n",
       "      <th>id</th>\n",
       "      <th></th>\n",
       "      <th></th>\n",
       "      <th></th>\n",
       "      <th></th>\n",
       "      <th></th>\n",
       "      <th></th>\n",
       "      <th></th>\n",
       "      <th></th>\n",
       "      <th></th>\n",
       "      <th></th>\n",
       "      <th></th>\n",
       "      <th></th>\n",
       "      <th></th>\n",
       "      <th></th>\n",
       "      <th></th>\n",
       "      <th></th>\n",
       "      <th></th>\n",
       "      <th></th>\n",
       "      <th></th>\n",
       "      <th></th>\n",
       "      <th></th>\n",
       "    </tr>\n",
       "  </thead>\n",
       "  <tbody>\n",
       "    <tr>\n",
       "      <th>10529</th>\n",
       "      <td>48</td>\n",
       "      <td>40</td>\n",
       "      <td>0.833333</td>\n",
       "      <td>6</td>\n",
       "      <td>8.0</td>\n",
       "      <td>0</td>\n",
       "      <td>0</td>\n",
       "      <td>0</td>\n",
       "      <td>0</td>\n",
       "      <td>0</td>\n",
       "      <td>...</td>\n",
       "      <td>0</td>\n",
       "      <td>0</td>\n",
       "      <td>0</td>\n",
       "      <td>0.0</td>\n",
       "      <td>0</td>\n",
       "      <td>0.0</td>\n",
       "      <td>3</td>\n",
       "      <td>1</td>\n",
       "      <td>19</td>\n",
       "      <td>6.331223</td>\n",
       "    </tr>\n",
       "    <tr>\n",
       "      <th>10530</th>\n",
       "      <td>40</td>\n",
       "      <td>20</td>\n",
       "      <td>0.500000</td>\n",
       "      <td>4</td>\n",
       "      <td>10.0</td>\n",
       "      <td>0</td>\n",
       "      <td>0</td>\n",
       "      <td>0</td>\n",
       "      <td>0</td>\n",
       "      <td>0</td>\n",
       "      <td>...</td>\n",
       "      <td>0</td>\n",
       "      <td>0</td>\n",
       "      <td>0</td>\n",
       "      <td>0.0</td>\n",
       "      <td>0</td>\n",
       "      <td>0.0</td>\n",
       "      <td>1</td>\n",
       "      <td>1</td>\n",
       "      <td>4</td>\n",
       "      <td>3.996004</td>\n",
       "    </tr>\n",
       "    <tr>\n",
       "      <th>10531</th>\n",
       "      <td>52</td>\n",
       "      <td>39</td>\n",
       "      <td>0.750000</td>\n",
       "      <td>8</td>\n",
       "      <td>6.5</td>\n",
       "      <td>0</td>\n",
       "      <td>0</td>\n",
       "      <td>0</td>\n",
       "      <td>0</td>\n",
       "      <td>0</td>\n",
       "      <td>...</td>\n",
       "      <td>0</td>\n",
       "      <td>0</td>\n",
       "      <td>0</td>\n",
       "      <td>0.0</td>\n",
       "      <td>0</td>\n",
       "      <td>0.0</td>\n",
       "      <td>1</td>\n",
       "      <td>1</td>\n",
       "      <td>1</td>\n",
       "      <td>0.999001</td>\n",
       "    </tr>\n",
       "  </tbody>\n",
       "</table>\n",
       "<p>3 rows × 2180 columns</p>\n",
       "</div>"
      ],
      "text/plain": [
       "       total_len  sign_len  sign_frac  count_  avg_len  компан  любан  ун  \\\n",
       "id                                                                          \n",
       "10529         48        40   0.833333       6      8.0       0      0   0   \n",
       "10530         40        20   0.500000       4     10.0       0      0   0   \n",
       "10531         52        39   0.750000       8      6.5       0      0   0   \n",
       "\n",
       "       эдельвейс  д  ...  ж б шт  в к мин  trigram_count  trigram_frac  \\\n",
       "id                   ...                                                 \n",
       "10529          0  0  ...       0        0              0           0.0   \n",
       "10530          0  0  ...       0        0              0           0.0   \n",
       "10531          0  0  ...       0        0              0           0.0   \n",
       "\n",
       "       trigram_total_len  trigram_avg_len  total_count  max_count  \\\n",
       "id                                                                  \n",
       "10529                  0              0.0            3          1   \n",
       "10530                  0              0.0            1          1   \n",
       "10531                  0              0.0            1          1   \n",
       "\n",
       "       sign_total_len  sign_avg_len  \n",
       "id                                   \n",
       "10529              19      6.331223  \n",
       "10530               4      3.996004  \n",
       "10531               1      0.999001  \n",
       "\n",
       "[3 rows x 2180 columns]"
      ]
     },
     "execution_count": 53,
     "metadata": {},
     "output_type": "execute_result"
    }
   ],
   "source": [
    "df_test.head(3)"
   ]
  },
  {
   "cell_type": "code",
   "execution_count": 54,
   "metadata": {},
   "outputs": [
    {
     "data": {
      "text/html": [
       "<div>\n",
       "<style scoped>\n",
       "    .dataframe tbody tr th:only-of-type {\n",
       "        vertical-align: middle;\n",
       "    }\n",
       "\n",
       "    .dataframe tbody tr th {\n",
       "        vertical-align: top;\n",
       "    }\n",
       "\n",
       "    .dataframe thead th {\n",
       "        text-align: right;\n",
       "    }\n",
       "</style>\n",
       "<table border=\"1\" class=\"dataframe\">\n",
       "  <thead>\n",
       "    <tr style=\"text-align: right;\">\n",
       "      <th></th>\n",
       "      <th>groups</th>\n",
       "    </tr>\n",
       "    <tr>\n",
       "      <th>id</th>\n",
       "      <th></th>\n",
       "    </tr>\n",
       "  </thead>\n",
       "  <tbody>\n",
       "    <tr>\n",
       "      <th>10529</th>\n",
       "      <td>0</td>\n",
       "    </tr>\n",
       "    <tr>\n",
       "      <th>10530</th>\n",
       "      <td>0</td>\n",
       "    </tr>\n",
       "    <tr>\n",
       "      <th>10531</th>\n",
       "      <td>0</td>\n",
       "    </tr>\n",
       "  </tbody>\n",
       "</table>\n",
       "</div>"
      ],
      "text/plain": [
       "       groups\n",
       "id           \n",
       "10529       0\n",
       "10530       0\n",
       "10531       0"
      ]
     },
     "execution_count": 54,
     "metadata": {},
     "output_type": "execute_result"
    }
   ],
   "source": [
    "submission = pd.read_csv(\"sample_solution.csv\", index_col='id')\n",
    "submission.head(3)"
   ]
  },
  {
   "cell_type": "code",
   "execution_count": 55,
   "metadata": {},
   "outputs": [
    {
     "data": {
      "text/plain": [
       "<catboost.core.CatBoostClassifier at 0x7fee00c472b0>"
      ]
     },
     "execution_count": 55,
     "metadata": {},
     "output_type": "execute_result"
    }
   ],
   "source": [
    "model = CatBoostClassifier()\n",
    "model.load_model(\"model.json\", \"json\")"
   ]
  },
  {
   "cell_type": "code",
   "execution_count": 56,
   "metadata": {},
   "outputs": [
    {
     "data": {
      "text/html": [
       "<div>\n",
       "<style scoped>\n",
       "    .dataframe tbody tr th:only-of-type {\n",
       "        vertical-align: middle;\n",
       "    }\n",
       "\n",
       "    .dataframe tbody tr th {\n",
       "        vertical-align: top;\n",
       "    }\n",
       "\n",
       "    .dataframe thead th {\n",
       "        text-align: right;\n",
       "    }\n",
       "</style>\n",
       "<table border=\"1\" class=\"dataframe\">\n",
       "  <thead>\n",
       "    <tr style=\"text-align: right;\">\n",
       "      <th></th>\n",
       "      <th>groups</th>\n",
       "    </tr>\n",
       "    <tr>\n",
       "      <th>id</th>\n",
       "      <th></th>\n",
       "    </tr>\n",
       "  </thead>\n",
       "  <tbody>\n",
       "    <tr>\n",
       "      <th>10529</th>\n",
       "      <td>10</td>\n",
       "    </tr>\n",
       "    <tr>\n",
       "      <th>10530</th>\n",
       "      <td>10</td>\n",
       "    </tr>\n",
       "    <tr>\n",
       "      <th>10531</th>\n",
       "      <td>10</td>\n",
       "    </tr>\n",
       "  </tbody>\n",
       "</table>\n",
       "</div>"
      ],
      "text/plain": [
       "       groups\n",
       "id           \n",
       "10529      10\n",
       "10530      10\n",
       "10531      10"
      ]
     },
     "execution_count": 56,
     "metadata": {},
     "output_type": "execute_result"
    }
   ],
   "source": [
    "submission['groups'] = model.predict(df_test)\n",
    "submission.head(3)"
   ]
  },
  {
   "cell_type": "code",
   "execution_count": 57,
   "metadata": {},
   "outputs": [
    {
     "data": {
      "text/plain": [
       "10    204315\n",
       "9      18457\n",
       "4      12283\n",
       "0       9667\n",
       "3       9659\n",
       "1       8886\n",
       "6       8595\n",
       "7       8407\n",
       "2       1958\n",
       "Name: groups, dtype: int64"
      ]
     },
     "execution_count": 57,
     "metadata": {},
     "output_type": "execute_result"
    }
   ],
   "source": [
    "submission['groups'].value_counts()"
   ]
  },
  {
   "cell_type": "code",
   "execution_count": 58,
   "metadata": {},
   "outputs": [],
   "source": [
    "submission.to_csv(\"./submission.csv\")"
   ]
  },
  {
   "cell_type": "code",
   "execution_count": null,
   "metadata": {},
   "outputs": [],
   "source": []
  }
 ],
 "metadata": {
  "colab": {
   "name": "rosstat_baseline.ipynb",
   "provenance": []
  },
  "kernelspec": {
   "display_name": "Python 3 (ipykernel)",
   "language": "python",
   "name": "python3"
  },
  "language_info": {
   "codemirror_mode": {
    "name": "ipython",
    "version": 3
   },
   "file_extension": ".py",
   "mimetype": "text/x-python",
   "name": "python",
   "nbconvert_exporter": "python",
   "pygments_lexer": "ipython3",
   "version": "3.9.12"
  }
 },
 "nbformat": 4,
 "nbformat_minor": 1
}
